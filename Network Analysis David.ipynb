{
 "cells": [
  {
   "cell_type": "code",
   "execution_count": 2,
   "id": "4bf42f00",
   "metadata": {},
   "outputs": [],
   "source": [
    "import networkx as nx"
   ]
  },
  {
   "cell_type": "markdown",
   "id": "ee96d7c4",
   "metadata": {},
   "source": [
    "attributes should be on nodes, not edges. parse/read_edgelist will place attributes on edges.\n",
    "one file with edgelist, one file with nodes and their attributes. can combine these easily to create a networkx graph."
   ]
  },
  {
   "cell_type": "code",
   "execution_count": null,
   "id": "62b351db",
   "metadata": {},
   "outputs": [],
   "source": [
    "data = open('Datasets/hedden_network_with_followers_verified.csv', \"r\")\n",
    "next(data, None)  # skip the first line in the input file\n",
    "DiGraph = nx.DiGraph()\n",
    "\n",
    "G = nx.parse_edgelist(data, delimiter=',', create_using=DiGraph,\n",
    "                      nodetype=int, data=(('weight', float),))"
   ]
  },
  {
   "cell_type": "markdown",
   "id": "24d42301",
   "metadata": {},
   "source": [
    "in the meantime - use a dummy digraph"
   ]
  },
  {
   "cell_type": "code",
   "execution_count": 37,
   "id": "43a4abb0",
   "metadata": {
    "scrolled": false
   },
   "outputs": [
    {
     "name": "stdout",
     "output_type": "stream",
     "text": [
      "1\n",
      "False\n",
      "number of verified nodes: 1\n"
     ]
    }
   ],
   "source": [
    "import random\n",
    "\n",
    "num_nodes = 1000\n",
    "prob = 0.001\n",
    "DummyGraph = nx.erdos_renyi_graph(n=num_nodes, p=prob, directed=True)\n",
    "attr_dict = {}\n",
    "for n in range(num_nodes):\n",
    "    # get followers\n",
    "    f = len(DummyGraph.pred[n])\n",
    "    # simple weighted random assignment of verified status\n",
    "    v = False\n",
    "    if f/num_nodes > random.uniform(0,1):\n",
    "        v = True\n",
    "    attr_dict[n] = {\"followers\": f, \"verified\": v}\n",
    "\n",
    "nx.set_node_attributes(DummyGraph, attr_dict)\n",
    "\n",
    "# test\n",
    "print(DummyGraph.nodes[0][\"followers\"])\n",
    "print(DummyGraph.nodes[0][\"verified\"])\n",
    "verified = nx.get_node_attributes(DummyGraph, \"verified\")\n",
    "print(\"number of verified nodes:\", sum(verified.values()))\n",
    "\n",
    "nx.write_gexf(DummyGraph, \"test.gexf\")"
   ]
  },
  {
   "cell_type": "markdown",
   "id": "99dc5b13",
   "metadata": {},
   "source": [
    "Get soccer network in .gexf file"
   ]
  },
  {
   "cell_type": "code",
   "execution_count": 4,
   "id": "390b0b6b",
   "metadata": {},
   "outputs": [],
   "source": [
    "import networkx as nx\n",
    "\n",
    "data = open('cs4352-final-project/Scraping/dejan.csv', \"r\")\n",
    "G = nx.DiGraph()\n",
    "\n",
    "SoccerGraph = nx.parse_edgelist(data, delimiter=' ', create_using=G)\n",
    "nx.write_gexf(SoccerGraph, \"dejan_gephi.gexf\")"
   ]
  },
  {
   "cell_type": "code",
   "execution_count": 15,
   "id": "586e51bf",
   "metadata": {},
   "outputs": [],
   "source": [
    "SoccerGraph = nx.read_gml(\"Scraping/Dejan-Full-Node-Info.gml\")\n",
    "SoccerGraph = nx.convert_node_labels_to_integers(SoccerGraph, label_attribute=\"id\")\n",
    "\n",
    "nx.write_gexf(SoccerGraph, \"dejan_full_node_info.gexf\")"
   ]
  },
  {
   "cell_type": "code",
   "execution_count": 23,
   "id": "bf2719c9",
   "metadata": {},
   "outputs": [
    {
     "data": {
      "text/plain": [
       "{'follower_count': 1028023,\n",
       " 'verified': 1,\n",
       " 'name': 'Rob Perez',\n",
       " 'screen_name': 'WorldWideWob',\n",
       " 'protected': 0,\n",
       " 'friends_count': 1046766,\n",
       " 'listed_count': 6431,\n",
       " 'favourites_count': 49205,\n",
       " 'geo_enabled': 1,\n",
       " 'statuses_count': 17582,\n",
       " 'contributors_enabled': 0,\n",
       " 'is_translator': 0,\n",
       " 'is_translation_enabled': 0,\n",
       " 'profile_use_background_image': 1,\n",
       " 'has_extended_profile': 1,\n",
       " 'default_profile': 0,\n",
       " 'default_profile_image': 0,\n",
       " 'id': '24897626.0'}"
      ]
     },
     "execution_count": 23,
     "metadata": {},
     "output_type": "execute_result"
    }
   ],
   "source": [
    "SoccerGraph.nodes()[40]"
   ]
  },
  {
   "cell_type": "markdown",
   "id": "43029ed2",
   "metadata": {},
   "source": [
    "GCN"
   ]
  },
  {
   "cell_type": "markdown",
   "id": "2cc3bd9a",
   "metadata": {},
   "source": [
    "Convert networkx graph to dataset accesible by pytorch"
   ]
  },
  {
   "cell_type": "code",
   "execution_count": 34,
   "id": "236aa390",
   "metadata": {
    "scrolled": true
   },
   "outputs": [
    {
     "name": "stdout",
     "output_type": "stream",
     "text": [
      "Data(edge_index=[2, 7258], y=[685], name=[685], screen_name=[685], protected=[685], geo_enabled=[685], contributors_enabled=[685], is_translator=[685], is_translation_enabled=[685], profile_use_background_image=[685], has_extended_profile=[685], default_profile=[685], default_profile_image=[685], id=[685], x=[685, 5])\n"
     ]
    }
   ],
   "source": [
    "from torch_geometric.utils.convert import from_networkx\n",
    "\n",
    "SoccerGraph = nx.read_gml(\"Scraping/Dejan-Full-Node-Info.gml\")\n",
    "SoccerGraph = nx.convert_node_labels_to_integers(SoccerGraph, label_attribute=\"id\")\n",
    "\n",
    "# rename verified to y attribute (verified) to graph before conversion \n",
    "for n, data in SoccerGraph.nodes(data=True):\n",
    "    data[\"y\"] = data.pop('verified')\n",
    "\n",
    "data = from_networkx(SoccerGraph, group_node_attrs=['follower_count','friends_count','listed_count','favourites_count','statuses_count'])\n",
    "print(data)\n",
    "\n",
    "# equivalent of dataset.num_node_features\n",
    "num_node_features = len(data.x[0])\n",
    "num_classes = 2 # verified (y) is binary\n",
    "\n",
    "# need to rename features to line up w convention: x and y \n",
    "# x should be 2D, include every feature for each node\n",
    "# y should be feature to predict and num classes should be 2 (?) - for verified or not?"
   ]
  },
  {
   "cell_type": "code",
   "execution_count": 35,
   "id": "c9fd3430",
   "metadata": {},
   "outputs": [],
   "source": [
    "# use complete soccer data with attributes\n",
    "# 4 layers (?) because our graph won't be that 'deep'\n",
    "# gnn scalability considerations\n",
    "# train partially on a general twitter network, and then finetune for each specific network?\n",
    "\n",
    "import torch\n",
    "import torch.nn.functional as F\n",
    "from torch_geometric.nn import GCNConv\n",
    "\n",
    "\n",
    "class Twitter_GCN(torch.nn.Module):\n",
    "    def __init__(self):\n",
    "        super().__init__()\n",
    "        # two hidden layers\n",
    "        self.conv1 = GCNConv(num_node_features, 16)\n",
    "        self.conv2 = GCNConv(16, num_classes)\n",
    "        \n",
    "    def forward(self, data):\n",
    "        x, edge_index = data.x, data.edge_index\n",
    "\n",
    "        x = self.conv1(x, edge_index)\n",
    "        x = F.relu(x)\n",
    "        x = F.dropout(x, training=self.training)\n",
    "        x = self.conv2(x, edge_index)\n",
    "\n",
    "        return F.log_softmax(x, dim=1)\n",
    "\n",
    "device = torch.device('cuda' if torch.cuda.is_available() else 'cpu')\n",
    "\n",
    "data = data.to(device)\n",
    "data.validate(raise_on_error=True)\n",
    "\n",
    "model = Twitter_GCN().to(device) \n",
    "\n",
    "model.train()\n",
    "\n",
    "# can test params similar to problem set 3 - test out different numbers of layers, \n",
    "optimizer = torch.optim.Adam(model.parameters(), lr=0.01, weight_decay=5e-4)\n",
    "\n",
    "# need to split data into train/test?\n",
    "# masking?\n"
   ]
  },
  {
   "cell_type": "code",
   "execution_count": null,
   "id": "42db6585",
   "metadata": {},
   "outputs": [],
   "source": [
    "# load "
   ]
  },
  {
   "cell_type": "code",
   "execution_count": null,
   "id": "cbc1d51e",
   "metadata": {},
   "outputs": [],
   "source": []
  }
 ],
 "metadata": {
  "kernelspec": {
   "display_name": "Python 3 (ipykernel)",
   "language": "python",
   "name": "python3"
  },
  "language_info": {
   "codemirror_mode": {
    "name": "ipython",
    "version": 3
   },
   "file_extension": ".py",
   "mimetype": "text/x-python",
   "name": "python",
   "nbconvert_exporter": "python",
   "pygments_lexer": "ipython3",
   "version": "3.10.1"
  }
 },
 "nbformat": 4,
 "nbformat_minor": 5
}
